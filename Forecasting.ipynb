{
 "metadata": {
  "language_info": {
   "codemirror_mode": {
    "name": "ipython",
    "version": 3
   },
   "file_extension": ".py",
   "mimetype": "text/x-python",
   "name": "python",
   "nbconvert_exporter": "python",
   "pygments_lexer": "ipython3",
   "version": "3.9.4"
  },
  "orig_nbformat": 2,
  "kernelspec": {
   "name": "python3",
   "display_name": "Python 3.9.4 64-bit"
  },
  "metadata": {
   "interpreter": {
    "hash": "f3e71b8c642073f79341a1319c68d8a104fb7684ae6475c333ec13ca1a8afbd0"
   }
  },
  "interpreter": {
   "hash": "f3e71b8c642073f79341a1319c68d8a104fb7684ae6475c333ec13ca1a8afbd0"
  }
 },
 "nbformat": 4,
 "nbformat_minor": 2,
 "cells": [
  {
   "cell_type": "markdown",
   "source": [
    "<font size=\"5\">FORECASTING MEDIAS MOVILES</font>"
   ],
   "metadata": {}
  },
  {
   "cell_type": "code",
   "execution_count": null,
   "source": [
    "import numpy as np\r\n",
    "import pandas as pd\r\n",
    "import matplotlib.pyplot as plt"
   ],
   "outputs": [],
   "metadata": {}
  },
  {
   "cell_type": "markdown",
   "source": [
    "<font size=\"4\">INFORMACION</font>"
   ],
   "metadata": {}
  },
  {
   "cell_type": "code",
   "execution_count": null,
   "source": [
    "df = pd.read_excel('DATOS.xlsx')\r\n",
    "df.info()"
   ],
   "outputs": [],
   "metadata": {}
  },
  {
   "cell_type": "code",
   "execution_count": null,
   "source": [
    "#Graficar\r\n",
    "plt.figure(figsize = (12, 6))\r\n",
    "plt.plot(df['TRANS DATE'], (df['ORIGINAL GROSS AMT']))\r\n",
    "\r\n",
    "plt.xlabel(\"Periodos\", fontsize = 14)\r\n",
    "plt.ylabel(\"Gastos\", fontsize = 14)\r\n",
    "plt.title(\"Serie de Tiempo\", fontsize = 18)\r\n",
    "plt.show()"
   ],
   "outputs": [],
   "metadata": {}
  },
  {
   "cell_type": "code",
   "execution_count": null,
   "source": [
    "df['month_day'] = df['TRANS DATE'].apply(lambda x:pd.Timestamp(x).strftime('%Y-%m-%d'))\r\n",
    "variables = pd.concat([df['TRANS DATE'], df['ORIGINAL GROSS AMT'].round(0).astype(int), df['month_day']],  axis = 1)\r\n",
    "variables"
   ],
   "outputs": [],
   "metadata": {}
  },
  {
   "cell_type": "markdown",
   "source": [
    "<font size=\"4\">TRATAMIENTO DE DATOS</font>"
   ],
   "metadata": {}
  },
  {
   "cell_type": "code",
   "execution_count": null,
   "source": [
    "#Datos Diarios\r\n",
    "diario = variables.groupby(by=['month_day']).sum().reset_index()\r\n",
    "diario.head()"
   ],
   "outputs": [],
   "metadata": {}
  },
  {
   "cell_type": "code",
   "execution_count": null,
   "source": [
    "#Graficar\r\n",
    "plt.figure(figsize = (12, 6))\r\n",
    "plt.plot(diario.index, (np.log(diario['ORIGINAL GROSS AMT'])))\r\n",
    "\r\n",
    "plt.xlabel(\"Periodos\", fontsize = 14)\r\n",
    "plt.ylabel(\"Gastos\", fontsize = 14)\r\n",
    "plt.title(\"Serie de Tiempo\", fontsize = 18)\r\n",
    "plt.show()"
   ],
   "outputs": [],
   "metadata": {}
  },
  {
   "cell_type": "markdown",
   "source": [
    "<font size=\"4\">MODELO ARIMA</font>"
   ],
   "metadata": {}
  },
  {
   "cell_type": "code",
   "execution_count": null,
   "source": [
    "from statsmodels.tsa.stattools import adfuller\r\n",
    "adf = adfuller(np.log(diario['ORIGINAL GROSS AMT']).fillna(method='ffill'))\r\n",
    "print('El test es: ',adf[0])\r\n",
    "print('El P value es: ', adf[1])\r\n",
    "print('Valores Criticos: ', adf[4])"
   ],
   "outputs": [],
   "metadata": {}
  },
  {
   "cell_type": "code",
   "execution_count": null,
   "source": [
    "from pmdarima import auto_arima\r\n",
    "import warnings\r\n",
    "warnings.filterwarnings(\"ignore\")\r\n",
    "stepwise_fit = auto_arima(np.log(diario['ORIGINAL GROSS AMT']).fillna(method='ffill'), trace = True, supress_warnings = True)"
   ],
   "outputs": [],
   "metadata": {}
  },
  {
   "cell_type": "code",
   "execution_count": null,
   "source": [
    "train = diario.iloc[:-30]\r\n",
    "test = diario.iloc[-30:]"
   ],
   "outputs": [],
   "metadata": {}
  },
  {
   "cell_type": "code",
   "execution_count": null,
   "source": [
    "from statsmodels.tsa.arima_model import ARIMA\r\n",
    "mod = ARIMA((np.log(train['ORIGINAL GROSS AMT'])).fillna(method='ffill'), order = (5,0,2))\r\n",
    "model = mod.fit()\r\n",
    "model.summary()"
   ],
   "outputs": [],
   "metadata": {}
  },
  {
   "cell_type": "markdown",
   "source": [
    "<font size=\"4\">PRONOSTICO</font>"
   ],
   "metadata": {}
  },
  {
   "cell_type": "code",
   "execution_count": null,
   "source": [
    "start = len(train)\r\n",
    "end = len(train) + len(test)-1\r\n",
    "pred = model.predict(start=start, end=end, typ='levels')\r\n",
    "print(pred)"
   ],
   "outputs": [],
   "metadata": {}
  },
  {
   "cell_type": "code",
   "execution_count": null,
   "source": [
    "pred.plot(legend = True)\r\n",
    "np.log(test['ORIGINAL GROSS AMT']).plot(legend = True)"
   ],
   "outputs": [],
   "metadata": {}
  }
 ]
}