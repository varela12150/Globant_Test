{
 "metadata": {
  "language_info": {
   "codemirror_mode": {
    "name": "ipython",
    "version": 3
   },
   "file_extension": ".py",
   "mimetype": "text/x-python",
   "name": "python",
   "nbconvert_exporter": "python",
   "pygments_lexer": "ipython3",
   "version": "3.9.4"
  },
  "orig_nbformat": 2,
  "kernelspec": {
   "name": "python394jvsc74a57bd0f3e71b8c642073f79341a1319c68d8a104fb7684ae6475c333ec13ca1a8afbd0",
   "display_name": "Python 3.9.4 64-bit"
  },
  "metadata": {
   "interpreter": {
    "hash": "f3e71b8c642073f79341a1319c68d8a104fb7684ae6475c333ec13ca1a8afbd0"
   }
  }
 },
 "nbformat": 4,
 "nbformat_minor": 2,
 "cells": [
  {
   "cell_type": "markdown",
   "source": [
    "<font size=\"5\">CLUSTERING K-MEDIAS METODO</font>"
   ],
   "metadata": {}
  },
  {
   "cell_type": "code",
   "execution_count": null,
   "source": [
    "import numpy as numpy\r\n",
    "import pandas as pd\r\n",
    "import matplotlib.pyplot as plt\r\n",
    "from sklearn.cluster import KMeans"
   ],
   "outputs": [],
   "metadata": {}
  },
  {
   "cell_type": "markdown",
   "source": [
    "<font size=\"4\">INFORMACION</font>"
   ],
   "metadata": {}
  },
  {
   "cell_type": "code",
   "execution_count": null,
   "source": [
    "df = pd.read_excel('DATOS.xlsx')\r\n",
    "df.info()"
   ],
   "outputs": [],
   "metadata": {}
  },
  {
   "cell_type": "code",
   "execution_count": null,
   "source": [
    "dummies  = pd.get_dummies(df['Directorate']) #,drop_first = True)\r\n",
    "dummies.head()"
   ],
   "outputs": [],
   "metadata": {}
  },
  {
   "cell_type": "code",
   "execution_count": null,
   "source": [
    "variables = pd.concat([df['ORIGINAL GROSS AMT'], dummies], axis = 1).fillna(0)\r\n",
    "variables.head()"
   ],
   "outputs": [],
   "metadata": {}
  },
  {
   "cell_type": "markdown",
   "source": [
    "<font size=\"4\">CREACION DEL MODELO</font>"
   ],
   "metadata": {}
  },
  {
   "cell_type": "code",
   "execution_count": null,
   "source": [
    "wcss = []\r\n",
    "\r\n",
    "for i in range (1,12):\r\n",
    "    kmeans = KMeans(n_clusters= i, max_iter = 300)\r\n",
    "    kmeans.fit(variables)\r\n",
    "    wcss.append(kmeans.inertia_)"
   ],
   "outputs": [],
   "metadata": {}
  },
  {
   "cell_type": "code",
   "execution_count": null,
   "source": [
    "plt.plot(range(1,12), wcss)\r\n",
    "plt.title=('Codo de Jambu')\r\n",
    "plt.xlabel('Numero de Clusters')\r\n",
    "plt.ylabel('WCSS')\r\n",
    "plt.show()"
   ],
   "outputs": [],
   "metadata": {}
  },
  {
   "cell_type": "markdown",
   "source": [
    "<font size=\"4\">CREACION DE LOS GRUPOS</font>"
   ],
   "metadata": {}
  },
  {
   "cell_type": "code",
   "execution_count": null,
   "source": [
    "clustering = KMeans(n_clusters = 3, max_iter = 300)\r\n",
    "clustering.fit(variables)"
   ],
   "outputs": [],
   "metadata": {}
  },
  {
   "cell_type": "code",
   "execution_count": null,
   "source": [
    "df['Kmeans_Clusters'] = clustering.labels_\r\n",
    "df.head()"
   ],
   "outputs": [],
   "metadata": {}
  },
  {
   "cell_type": "markdown",
   "source": [
    "<font size=\"4\">COMPONENTES PRINCIPALES</font>"
   ],
   "metadata": {}
  },
  {
   "cell_type": "code",
   "execution_count": null,
   "source": [
    "from sklearn.decomposition import PCA\r\n",
    "\r\n",
    "pca = PCA(n_components = 2)\r\n",
    "pca_variables = pca.fit_transform(variables)\r\n",
    "pca_variables_df = pd.DataFrame(data = pca_variables, columns = ['C1', 'C2'])\r\n",
    "pca_variables_cluster = pd.concat([pca_variables_df, df['Kmeans_Clusters']], axis = 1)\r\n",
    "\r\n",
    "pca_variables_cluster"
   ],
   "outputs": [],
   "metadata": {}
  },
  {
   "cell_type": "markdown",
   "source": [
    "<font size=\"4\">GRAFICAR Y OBTENER DATOS</font>"
   ],
   "metadata": {}
  },
  {
   "cell_type": "code",
   "execution_count": null,
   "source": [
    "fig = plt.figure(figsize = (6,6))\r\n",
    "\r\n",
    "ax = fig.add_subplot(1,1,1)\r\n",
    "ax.set_xlabel('C1', fontsize = 15)\r\n",
    "ax.set_ylabel('C2', fontsize = 15)\r\n",
    "ax.set_title('Componentes Principales', fontsize = 20)\r\n",
    "\r\n",
    "color_theme = numpy.array([\"blue\", \"green\", \"red\"])\r\n",
    "ax.scatter(x = pca_variables_cluster.C1, y = pca_variables_cluster.C2, c = color_theme[pca_variables_cluster.Kmeans_Clusters], s = 50)\r\n",
    "\r\n",
    "plt.show()"
   ],
   "outputs": [],
   "metadata": {}
  },
  {
   "cell_type": "code",
   "execution_count": null,
   "source": [
    "pca_variables_cluster.to_excel('pca_variables_cluster.xlsx')"
   ],
   "outputs": [],
   "metadata": {}
  },
  {
   "cell_type": "code",
   "execution_count": null,
   "source": [],
   "outputs": [],
   "metadata": {}
  }
 ]
}